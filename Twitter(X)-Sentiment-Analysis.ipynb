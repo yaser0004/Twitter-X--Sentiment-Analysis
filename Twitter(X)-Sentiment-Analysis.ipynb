{
  "nbformat": 4,
  "nbformat_minor": 0,
  "metadata": {
    "colab": {
      "provenance": []
    },
    "kernelspec": {
      "name": "python3",
      "display_name": "Python 3"
    },
    "language_info": {
      "name": "python"
    }
  },
  "cells": [
    {
      "cell_type": "code",
      "source": [
        "# Import necessary libraries for data handling, visualization, NLP, and ML\n",
        "import pandas as pd\n",
        "import numpy as np\n",
        "import re\n",
        "import string\n",
        "import nltk\n",
        "import matplotlib.pyplot as plt\n",
        "import seaborn as sns\n",
        "from nltk.stem import WordNetLemmatizer\n",
        "from sklearn.feature_extraction.text import TfidfVectorizer\n",
        "from sklearn.linear_model import LogisticRegression\n",
        "from sklearn.model_selection import train_test_split\n",
        "from sklearn.metrics import classification_report, accuracy_score, ConfusionMatrixDisplay\n",
        "from sklearn.utils import shuffle\n",
        "\n",
        "# Download required NLTK resources for lemmatization\n",
        "nltk.download('wordnet')\n",
        "nltk.download('omw-1.4')"
      ],
      "metadata": {
        "colab": {
          "base_uri": "https://localhost:8080/"
        },
        "id": "asrNMSX100kN",
        "outputId": "21843bdc-dd00-44af-f24a-74b95af40166"
      },
      "execution_count": null,
      "outputs": [
        {
          "output_type": "stream",
          "name": "stderr",
          "text": [
            "[nltk_data] Downloading package wordnet to /root/nltk_data...\n",
            "[nltk_data] Downloading package omw-1.4 to /root/nltk_data...\n"
          ]
        },
        {
          "output_type": "execute_result",
          "data": {
            "text/plain": [
              "True"
            ]
          },
          "metadata": {},
          "execution_count": 1
        }
      ]
    },
    {
      "cell_type": "code",
      "source": [
        "# Load dataset from GitHub\n",
        "DATA_URL = 'https://raw.githubusercontent.com/dD2405/Twitter_Sentiment_Analysis/master/train.csv'\n",
        "df = pd.read_csv(DATA_URL)"
      ],
      "metadata": {
        "id": "2TfHtTiD5FHj"
      },
      "execution_count": null,
      "outputs": []
    },
    {
      "cell_type": "code",
      "source": [
        "# Drop nulls and rename columns for consistency\n",
        "# We're interested in the sentiment and text only\n",
        "# Drop NaN values and reset index\n",
        "\n",
        "df = df[['label', 'tweet']].dropna().reset_index(drop=True)\n",
        "df.columns = ['sentiment', 'text']"
      ],
      "metadata": {
        "id": "79YugEEz5KPi"
      },
      "execution_count": null,
      "outputs": []
    },
    {
      "cell_type": "code",
      "source": [
        "# Define a static list of stopwords to remove common but uninformative words\n",
        "STATIC_STOPWORDS = set([\n",
        "    'a', 'about', 'above', 'after', 'again', 'against', 'all', 'am', 'an', 'and',\n",
        "    'any', 'are', 'as', 'at', 'be', 'because', 'been', 'before', 'being', 'below',\n",
        "    'between', 'both', 'but', 'by', 'could', 'did', 'do', 'does', 'doing', 'down',\n",
        "    'during', 'each', 'few', 'for', 'from', 'further', 'had', 'has', 'have', 'having',\n",
        "    'he', 'her', 'here', 'hers', 'herself', 'him', 'himself', 'his', 'how', 'i',\n",
        "    'if', 'in', 'into', 'is', 'it', 'its', 'itself', 'just', 'me', 'more', 'most',\n",
        "    'my', 'myself', 'no', 'nor', 'not', 'now', 'of', 'off', 'on', 'once', 'only',\n",
        "    'or', 'other', 'our', 'ours', 'ourselves', 'out', 'over', 'own', 'same', 'she',\n",
        "    'should', 'so', 'some', 'such', 'than', 'that', 'the', 'their', 'theirs',\n",
        "    'them', 'themselves', 'then', 'there', 'these', 'they', 'this', 'those', 'through',\n",
        "    'to', 'too', 'under', 'until', 'up', 'very', 'was', 'we', 'were', 'what', 'when',\n",
        "    'where', 'which', 'while', 'who', 'whom', 'why', 'with', 'would', 'you', 'your',\n",
        "    'yours', 'yourself', 'yourselves'\n",
        "])\n",
        "\n",
        "lemmatizer = WordNetLemmatizer()"
      ],
      "metadata": {
        "id": "Xviuk5Ef5ON4"
      },
      "execution_count": null,
      "outputs": []
    },
    {
      "cell_type": "code",
      "source": [
        "# Text cleaning by removing URLs, non-alphabetic characters, stopwords, and applying lemmatization\n",
        "def clean_text(text):\n",
        "    text = str(text).lower()\n",
        "    text = re.sub(r'http\\S+', '', text)\n",
        "    text = re.sub(r'[^a-zA-Z\\s]', '', text)\n",
        "    tokens = text.split()\n",
        "    tokens = [lemmatizer.lemmatize(t) for t in tokens if t not in STATIC_STOPWORDS]\n",
        "    return ' '.join(tokens)\n",
        "\n",
        "df['cleaned'] = df['text'].apply(clean_text)"
      ],
      "metadata": {
        "id": "AsWnD4b35ROs"
      },
      "execution_count": null,
      "outputs": []
    },
    {
      "cell_type": "code",
      "source": [
        "# Balance the dataset so each sentiment class has equal representation (helps prevent bias)\n",
        "def balance_classes(df, target_col='sentiment'):\n",
        "    if df.empty or df[target_col].dropna().empty:\n",
        "        raise ValueError(\"Input dataframe or target column is empty.\")\n",
        "    classes = df[target_col].unique()\n",
        "    counts = df[target_col].value_counts()\n",
        "    majority_class = counts.idxmax()\n",
        "    majority_df = df[df[target_col] == majority_class]\n",
        "    balanced = [majority_df]\n",
        "\n",
        "    for cls in classes:\n",
        "        if cls != majority_class:\n",
        "            cls_df = df[df[target_col] == cls]\n",
        "            upsampled = cls_df.sample(len(majority_df), replace=True, random_state=42)\n",
        "            balanced.append(upsampled)\n",
        "    result = pd.concat(balanced)\n",
        "    return result\n",
        "\n",
        "df = balance_classes(df)\n",
        "df = shuffle(df, random_state=42).reset_index(drop=True)"
      ],
      "metadata": {
        "id": "anegpa7A5UYT"
      },
      "execution_count": null,
      "outputs": []
    },
    {
      "cell_type": "code",
      "source": [
        "# Visualize class distribution to understand class imbalance impact:-\n",
        "\n",
        "# Before balancing\n",
        "original_df = pd.read_csv(DATA_URL)[['label', 'tweet']].dropna()\n",
        "original_df.columns = ['sentiment', 'text']\n",
        "\n",
        "plt.figure(figsize=(10, 4))\n",
        "plt.subplot(1, 2, 1)\n",
        "sns.countplot(x='sentiment', data=original_df)\n",
        "plt.title(\"Original Class Distribution\")\n",
        "plt.xlabel(\"Sentiment\")\n",
        "plt.ylabel(\"Count\")\n",
        "\n",
        "# After balancing\n",
        "plt.subplot(1, 2, 2)\n",
        "sns.countplot(x='sentiment', data=df)\n",
        "plt.title(\"Balanced Class Distribution\")\n",
        "plt.xlabel(\"Sentiment\")\n",
        "plt.ylabel(\"Count\")\n",
        "plt.tight_layout()\n",
        "plt.show()"
      ],
      "metadata": {
        "colab": {
          "base_uri": "https://localhost:8080/",
          "height": 272
        },
        "id": "dlvBjMLL6it0",
        "outputId": "6a02ef29-2f3f-499c-b101-103b23ce11ed"
      },
      "execution_count": null,
      "outputs": [
        {
          "output_type": "display_data",
          "data": {
            "text/plain": [
              "<Figure size 1000x400 with 2 Axes>"
            ],
            "image/png": "[encoded data removed]"
          },
          "metadata": {}
        }
      ]
    },
    {
      "cell_type": "code",
      "source": [
        "# Split dataset into training and testing sets to evaluate model generalization\n",
        "X_train, X_test, y_train, y_test = train_test_split(\n",
        "    df['cleaned'], df['sentiment'], test_size=0.2, random_state=42)"
      ],
      "metadata": {
        "id": "EV2SeP745X9C"
      },
      "execution_count": null,
      "outputs": []
    },
    {
      "cell_type": "code",
      "source": [
        "# Convert cleaned text into numerical features using TF-IDF (with unigrams to trigrams)\n",
        "vectorizer = TfidfVectorizer(ngram_range=(1,3), max_features=10000)\n",
        "X_train_vec = vectorizer.fit_transform(X_train)\n",
        "X_test_vec = vectorizer.transform(X_test)"
      ],
      "metadata": {
        "id": "0M_5oLDN5ag-"
      },
      "execution_count": null,
      "outputs": []
    },
    {
      "cell_type": "code",
      "source": [
        "# Logistic Regression with class balancing\n",
        "model = LogisticRegression(class_weight='balanced', max_iter=1000)\n",
        "model.fit(X_train_vec, y_train)\n",
        "\n",
        "y_pred = model.predict(X_test_vec)\n",
        "\n",
        "def convert_label(label):\n",
        "    return \"Negative (1)\" if label == 1 else \"Positive (0)\"\n",
        "\n",
        "converted_y_test = [convert_label(val) for val in y_test]\n",
        "converted_y_pred = [convert_label(val) for val in y_pred]\n",
        "\n",
        "# Output classification metrics to evaluate model performance\n",
        "print(\"Accuracy:\", accuracy_score(converted_y_test, converted_y_pred))\n",
        "print(classification_report(converted_y_test, converted_y_pred))"
      ],
      "metadata": {
        "colab": {
          "base_uri": "https://localhost:8080/"
        },
        "id": "AWYsBSTJ5dbL",
        "outputId": "b5a290db-4874-446f-bc6f-8c16d055a496"
      },
      "execution_count": null,
      "outputs": [
        {
          "output_type": "stream",
          "name": "stdout",
          "text": [
            "Accuracy: 0.9644179004037685\n",
            "              precision    recall  f1-score   support\n",
            "\n",
            "Negative (1)       0.95      0.99      0.97      5989\n",
            "Positive (0)       0.98      0.94      0.96      5899\n",
            "\n",
            "    accuracy                           0.96     11888\n",
            "   macro avg       0.97      0.96      0.96     11888\n",
            "weighted avg       0.97      0.96      0.96     11888\n",
            "\n"
          ]
        }
      ]
    },
    {
      "cell_type": "code",
      "source": [
        "# Display confusion matrix to visualize model's prediction breakdown\n",
        "# Shows how many actual positives/negatives were correctly/incorrectly predicted\n",
        "\n",
        "ConfusionMatrixDisplay.from_predictions(\n",
        "    converted_y_test, converted_y_pred,\n",
        "    display_labels=[\"Positive (0)\", \"Negative (1)\"],\n",
        "    cmap='Blues',\n",
        "    colorbar=False\n",
        ")\n",
        "plt.title(\"Confusion Matrix\")\n",
        "plt.show()"
      ],
      "metadata": {
        "colab": {
          "base_uri": "https://localhost:8080/",
          "height": 472
        },
        "id": "UTehz6Y962t3",
        "outputId": "4caf9868-c4e4-4ad4-db3c-47d3e9829460"
      },
      "execution_count": null,
      "outputs": [
        {
          "output_type": "display_data",
          "data": {
            "text/plain": [
              "<Figure size 640x480 with 1 Axes>"
            ],
            "image/png": "[encoded data removed]"
          },
          "metadata": {}
        }
      ]
    },
    {
      "cell_type": "code",
      "source": [
        "# Predict custom input\n",
        "def predict_sentiment(text):\n",
        "    cleaned = clean_text(text)\n",
        "    vec = vectorizer.transform([cleaned])\n",
        "    pred = model.predict(vec)[0]\n",
        "    return convert_label(pred)"
      ],
      "metadata": {
        "id": "9GAjfvkb5eUC"
      },
      "execution_count": null,
      "outputs": []
    },
    {
      "cell_type": "code",
      "source": [
        "# Example usage:\n",
        "# print(predict_sentiment(\"<YOUR_SENTENCE>\"))\n",
        "\n",
        "print(predict_sentiment(\"i love it\"))\n",
        "print(predict_sentiment(\"commit criminal activities\"))\n",
        "print(predict_sentiment(\"i hate it\"))\n",
        "print(predict_sentiment(\"he is a very good lawyer\"))"
      ],
      "metadata": {
        "colab": {
          "base_uri": "https://localhost:8080/"
        },
        "id": "xDnsexcK1evn",
        "outputId": "2b05eed1-a39b-4246-856b-f813d7165f61"
      },
      "execution_count": null,
      "outputs": [
        {
          "output_type": "stream",
          "name": "stdout",
          "text": [
            "Positive (0)\n",
            "Negative (1)\n",
            "Negative (1)\n",
            "Positive (0)\n"
          ]
        }
      ]
    }
  ]
}